{
 "cells": [
  {
   "cell_type": "code",
   "execution_count": 34,
   "id": "8ffa0101",
   "metadata": {},
   "outputs": [],
   "source": [
    "from sklearn.model_selection import train_test_split \n",
    "from sklearn import datasets \n",
    "from sklearn.linear_model import LogisticRegression \n",
    "from sklearn.neighbors import KNeighborsClassifier \n",
    "from sklearn.tree import DecisionTreeClassifier \n",
    "from sklearn.metrics import accuracy_score \n",
    "from sklearn.ensemble import VotingClassifier\n",
    "import pandas as pd \n",
    "import matplotlib.pyplot as plt\n",
    "import seaborn as sns"
   ]
  },
  {
   "cell_type": "code",
   "execution_count": 35,
   "id": "3519188c",
   "metadata": {},
   "outputs": [],
   "source": [
    "\n",
    "X,y= datasets.load_breast_cancer(return_X_y = True)\n",
    " \n",
    "X_train, X_test, y_train, y_test = train_test_split(X, y, test_size=0.2, random_state=42)\n"
   ]
  },
  {
   "cell_type": "code",
   "execution_count": 36,
   "id": "9713faae",
   "metadata": {},
   "outputs": [],
   "source": [
    "LogReg = LogisticRegression() \n",
    "KNN=KNeighborsClassifier(n_neighbors = 4) \n",
    "dt = DecisionTreeClassifier(criterion='gini', max_depth= 6, min_samples_leaf = 1)\n",
    " \n"
   ]
  },
  {
   "cell_type": "code",
   "execution_count": 37,
   "id": "d03e3760",
   "metadata": {},
   "outputs": [],
   "source": [
    "classifiers = [ ('Logistic Regression', LogReg), \n",
    "('KNeighbors', KNN), \n",
    "('Decision Tree', dt) \n",
    "]\n",
    " \n"
   ]
  },
  {
   "cell_type": "code",
   "execution_count": 38,
   "id": "d665afe6",
   "metadata": {},
   "outputs": [
    {
     "name": "stdout",
     "output_type": "stream",
     "text": [
      "Logistic Regression 0.9649122807017544 Göğüs kanseri wisconsin (teşhis) veri kümesi \n",
      "KNeighbors 0.9385964912280702 Göğüs kanseri wisconsin (teşhis) veri kümesi \n",
      "Decision Tree 0.9385964912280702 Göğüs kanseri wisconsin (teşhis) veri kümesi \n"
     ]
    },
    {
     "name": "stderr",
     "output_type": "stream",
     "text": [
      "C:\\Users\\duruf\\anaconda3\\lib\\site-packages\\sklearn\\linear_model\\_logistic.py:814: ConvergenceWarning: lbfgs failed to converge (status=1):\n",
      "STOP: TOTAL NO. of ITERATIONS REACHED LIMIT.\n",
      "\n",
      "Increase the number of iterations (max_iter) or scale the data as shown in:\n",
      "    https://scikit-learn.org/stable/modules/preprocessing.html\n",
      "Please also refer to the documentation for alternative solver options:\n",
      "    https://scikit-learn.org/stable/modules/linear_model.html#logistic-regression\n",
      "  n_iter_i = _check_optimize_result(\n"
     ]
    }
   ],
   "source": [
    "for name, model in classifiers: \n",
    "     model.fit(X_train, y_train) \n",
    "     y_pred = model.predict(X_test) \n",
    "     acc = accuracy_score(y_test, y_pred) \n",
    "     print(name, acc,\"Göğüs kanseri wisconsin (teşhis) veri kümesi \")\n",
    "\n"
   ]
  },
  {
   "cell_type": "code",
   "execution_count": 39,
   "id": "bf0dd481",
   "metadata": {},
   "outputs": [
    {
     "name": "stdout",
     "output_type": "stream",
     "text": [
      "Topluluk öğrenme 0.9649122807017544 Göğüs kanseri wisconsin (teşhis) veri kümesi\n"
     ]
    },
    {
     "name": "stderr",
     "output_type": "stream",
     "text": [
      "C:\\Users\\duruf\\anaconda3\\lib\\site-packages\\sklearn\\linear_model\\_logistic.py:814: ConvergenceWarning: lbfgs failed to converge (status=1):\n",
      "STOP: TOTAL NO. of ITERATIONS REACHED LIMIT.\n",
      "\n",
      "Increase the number of iterations (max_iter) or scale the data as shown in:\n",
      "    https://scikit-learn.org/stable/modules/preprocessing.html\n",
      "Please also refer to the documentation for alternative solver options:\n",
      "    https://scikit-learn.org/stable/modules/linear_model.html#logistic-regression\n",
      "  n_iter_i = _check_optimize_result(\n"
     ]
    }
   ],
   "source": [
    "vc = VotingClassifier(estimators = classifiers, voting = 'hard')\n",
    " \n",
    "vc.fit(X_train, y_train)\n",
    " \n",
    "y_pred = vc.predict(X_test)\n",
    " \n",
    "vc_acc = accuracy_score(y_test, y_pred)\n",
    "print(\"Topluluk öğrenme\", vc_acc,\"Göğüs kanseri wisconsin (teşhis) veri kümesi\")"
   ]
  },
  {
   "cell_type": "code",
   "execution_count": null,
   "id": "1370ed63",
   "metadata": {},
   "outputs": [],
   "source": []
  },
  {
   "cell_type": "code",
   "execution_count": null,
   "id": "61b0b04b",
   "metadata": {},
   "outputs": [],
   "source": []
  }
 ],
 "metadata": {
  "kernelspec": {
   "display_name": "Python 3 (ipykernel)",
   "language": "python",
   "name": "python3"
  },
  "language_info": {
   "codemirror_mode": {
    "name": "ipython",
    "version": 3
   },
   "file_extension": ".py",
   "mimetype": "text/x-python",
   "name": "python",
   "nbconvert_exporter": "python",
   "pygments_lexer": "ipython3",
   "version": "3.9.12"
  }
 },
 "nbformat": 4,
 "nbformat_minor": 5
}

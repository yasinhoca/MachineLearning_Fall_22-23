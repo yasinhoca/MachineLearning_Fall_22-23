{
 "cells": [
  {
   "cell_type": "code",
   "execution_count": 10,
   "id": "0712cd29",
   "metadata": {},
   "outputs": [],
   "source": [
    "from sklearn.model_selection import train_test_split \n",
    "from sklearn import datasets \n",
    "from sklearn.linear_model import LogisticRegression \n",
    "from sklearn.neighbors import KNeighborsClassifier \n",
    "from sklearn.tree import DecisionTreeClassifier \n",
    "from sklearn.metrics import accuracy_score \n",
    "from sklearn.ensemble import VotingClassifier\n",
    " "
   ]
  },
  {
   "cell_type": "code",
   "execution_count": 11,
   "id": "fad8130a",
   "metadata": {},
   "outputs": [],
   "source": [
    "X,y= datasets.load_wine(return_X_y = True)\n",
    " \n",
    "X_train, X_test, y_train, y_test = train_test_split(X, y, test_size=0.2, random_state=42)\n",
    " \n"
   ]
  },
  {
   "cell_type": "code",
   "execution_count": 12,
   "id": "cfe0ff0c",
   "metadata": {},
   "outputs": [],
   "source": [
    "LogReg = LogisticRegression() \n",
    "KNN=KNeighborsClassifier(n_neighbors = 4) \n",
    "dt = DecisionTreeClassifier(criterion='gini', max_depth= 6, min_samples_leaf = 1)\n",
    " \n"
   ]
  },
  {
   "cell_type": "code",
   "execution_count": 13,
   "id": "fed0a31e",
   "metadata": {},
   "outputs": [],
   "source": [
    "classifiers = [ ('Logistic Regression', LogReg), \n",
    "('KNeighbors', KNN), \n",
    "('Decision Tree', dt) \n",
    "]\n",
    " \n"
   ]
  },
  {
   "cell_type": "code",
   "execution_count": 14,
   "id": "e7b92497",
   "metadata": {},
   "outputs": [
    {
     "name": "stdout",
     "output_type": "stream",
     "text": [
      "Logistic Regression 0.9722222222222222 Şarap veri seti için \n",
      "KNeighbors 0.75 Şarap veri seti için \n",
      "Decision Tree 0.9444444444444444 Şarap veri seti için \n"
     ]
    },
    {
     "name": "stderr",
     "output_type": "stream",
     "text": [
      "C:\\Users\\duruf\\anaconda3\\lib\\site-packages\\sklearn\\linear_model\\_logistic.py:814: ConvergenceWarning: lbfgs failed to converge (status=1):\n",
      "STOP: TOTAL NO. of ITERATIONS REACHED LIMIT.\n",
      "\n",
      "Increase the number of iterations (max_iter) or scale the data as shown in:\n",
      "    https://scikit-learn.org/stable/modules/preprocessing.html\n",
      "Please also refer to the documentation for alternative solver options:\n",
      "    https://scikit-learn.org/stable/modules/linear_model.html#logistic-regression\n",
      "  n_iter_i = _check_optimize_result(\n"
     ]
    }
   ],
   "source": [
    "for name, model in classifiers: \n",
    "     model.fit(X_train, y_train) \n",
    "     y_pred = model.predict(X_test) \n",
    "     acc = accuracy_score(y_test, y_pred) \n",
    "     print(name, acc,\"Şarap veri seti için \")\n",
    "\n",
    "\n"
   ]
  },
  {
   "cell_type": "code",
   "execution_count": 15,
   "id": "1ee5453e",
   "metadata": {},
   "outputs": [
    {
     "name": "stdout",
     "output_type": "stream",
     "text": [
      "Topluluk öğrenme 0.9722222222222222 Şarap veri seti için\n"
     ]
    },
    {
     "name": "stderr",
     "output_type": "stream",
     "text": [
      "C:\\Users\\duruf\\anaconda3\\lib\\site-packages\\sklearn\\linear_model\\_logistic.py:814: ConvergenceWarning: lbfgs failed to converge (status=1):\n",
      "STOP: TOTAL NO. of ITERATIONS REACHED LIMIT.\n",
      "\n",
      "Increase the number of iterations (max_iter) or scale the data as shown in:\n",
      "    https://scikit-learn.org/stable/modules/preprocessing.html\n",
      "Please also refer to the documentation for alternative solver options:\n",
      "    https://scikit-learn.org/stable/modules/linear_model.html#logistic-regression\n",
      "  n_iter_i = _check_optimize_result(\n"
     ]
    }
   ],
   "source": [
    "vc = VotingClassifier(estimators = classifiers, voting = 'hard')\n",
    " \n",
    "vc.fit(X_train, y_train)\n",
    " \n",
    "y_pred = vc.predict(X_test)\n",
    " \n",
    "vc_acc = accuracy_score(y_test, y_pred)\n",
    "print(\"Topluluk öğrenme\", vc_acc,\"Şarap veri seti için\")"
   ]
  }
 ],
 "metadata": {
  "kernelspec": {
   "display_name": "Python 3 (ipykernel)",
   "language": "python",
   "name": "python3"
  },
  "language_info": {
   "codemirror_mode": {
    "name": "ipython",
    "version": 3
   },
   "file_extension": ".py",
   "mimetype": "text/x-python",
   "name": "python",
   "nbconvert_exporter": "python",
   "pygments_lexer": "ipython3",
   "version": "3.9.12"
  }
 },
 "nbformat": 4,
 "nbformat_minor": 5
}

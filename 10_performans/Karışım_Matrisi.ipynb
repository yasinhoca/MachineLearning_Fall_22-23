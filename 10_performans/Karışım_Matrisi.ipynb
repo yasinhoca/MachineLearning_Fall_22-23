{
  "nbformat": 4,
  "nbformat_minor": 0,
  "metadata": {
    "colab": {
      "provenance": []
    },
    "kernelspec": {
      "name": "python3",
      "display_name": "Python 3"
    },
    "language_info": {
      "name": "python"
    }
  },
  "cells": [
    {
      "cell_type": "markdown",
      "source": [
        "3 örneğimiz var.\n",
        "Bu örnekler içerisinde 4'er tane etiketlerimiz var. Target alanında 0 mevcut 1 mevcut olmayan etiketleri ifade ediyor. Bu etiketler A, B, C ve D olmak üzere listelenmiştir. Bu 3 örneği eğittiğimizde bize tahmin skoru veriliyor, bu skor 0 ile 1 arasında değer alır. 1 değerine yakın olan tahmin o örnek için geçerli olma ihtimali en yüksek etiketi 0 değeri ise en düşük ihtimali ifade ediyor.\n",
        "Örneğin 2. örnek için 0.9 tahmin skoruyla B etiketi geçerli olma ihtimali en yüksektir.\n"
      ],
      "metadata": {
        "id": "y2wHtWoBMku-"
      }
    },
    {
      "cell_type": "markdown",
      "metadata": {
        "id": "rfQJjLDmnw8m"
      },
      "source": [
        "![Sample Data with scores](https://github.com/kmkarakaya/ML_tutorials/blob/master/images/sample%20mutli%20label%20classification%20scores.png?raw=true)\n"
      ]
    },
    {
      "cell_type": "code",
      "source": [
        "#Burada yukarıdaki tablonun oluşması için arrayleri kullanıyoruz\n",
        "import numpy as np\n",
        "y_true = np.array([[0, 1, 1, 1],[0,0,1,0],[1,1,0,0]])\n",
        "y_scores = np.array([[0.2, 0.6, 0.1, 0.8],[0.4,0.9,0.8,0.6],[0.8,0.4,0.5,0.7]])"
      ],
      "metadata": {
        "id": "sXPoveGnLfH9"
      },
      "execution_count": 34,
      "outputs": []
    },
    {
      "cell_type": "code",
      "source": [
        "#Skorları tahmine çevirmek içinse threshold kullanıyoruz \n",
        "#!!Not: Kullandığımız threshold dan daha düşük değerleri 0 daha yüksek değerleri 1 olarak kabul ediyoruz\n",
        "threshold = 0.5\n"
      ],
      "metadata": {
        "id": "835UxYk6LfKp"
      },
      "execution_count": 35,
      "outputs": []
    },
    {
      "cell_type": "code",
      "source": [
        "#burada threshould için dizini oluşturuyoruz \n",
        "y_pred=[]\n",
        "for sample in  y_scores:\n",
        "  y_pred.append([1 if i>=0.5 else 0 for i in sample ] )\n",
        "y_pred = np.array(y_pred)\n",
        "y_pred"
      ],
      "metadata": {
        "colab": {
          "base_uri": "https://localhost:8080/"
        },
        "id": "BrgEB5l_LfNq",
        "outputId": "bc0b86c7-3b83-4a61-a8c7-66a9f0f4ec4a"
      },
      "execution_count": 36,
      "outputs": [
        {
          "output_type": "execute_result",
          "data": {
            "text/plain": [
              "array([[0, 1, 0, 1],\n",
              "       [0, 1, 1, 1],\n",
              "       [1, 0, 1, 1]])"
            ]
          },
          "metadata": {},
          "execution_count": 36
        }
      ]
    },
    {
      "cell_type": "markdown",
      "metadata": {
        "id": "otI8D4rZIIvA"
      },
      "source": [
        "![Predictions](https://github.com/kmkarakaya/ML_tutorials/blob/master/images/sample%20mutli%20label%20classification%20predictionss.png?raw=true)"
      ]
    },
    {
      "cell_type": "code",
      "source": [
        "#modelimizin başarımını ölçüyoruz bu skor 1 ile 0 arasında değişir\n",
        "from sklearn.metrics import accuracy_score\n",
        "accuracy_score(y_true, y_pred)\n",
        "#modelimiz için uygun değil çünkü bizim modelimiz multi label \n",
        "#olduğu için örneklere teker teker değil dörtlü bakıyor"
      ],
      "metadata": {
        "colab": {
          "base_uri": "https://localhost:8080/"
        },
        "id": "qtoQgmLhSGfY",
        "outputId": "9e9f2e3b-4585-413e-e64d-7c858e22512f"
      },
      "execution_count": 37,
      "outputs": [
        {
          "output_type": "execute_result",
          "data": {
            "text/plain": [
              "0.0"
            ]
          },
          "metadata": {},
          "execution_count": 37
        }
      ]
    },
    {
      "cell_type": "markdown",
      "metadata": {
        "id": "vV7ce4F_5PLU"
      },
      "source": [
        "# [Confusion matrix (Karışım Matrisi)](https://scikit-learn.org/stable/modules/model_evaluation.html#confusion-matrix) \n",
        "\n",
        "Karışıklık matrisi işlevi, karışıklık matrisini hesaplayarak sınıflandırma doğruluğunu değerlendirir. \n",
        "\n",
        "Kolonlar tahminlerimizi, satırlar ise bize verilen gerçek değerleri gösteriyor.\n",
        "Negatif tahmin edilen bir veri için sonuç da negatif ise yanlış negatif değeri döner.\n",
        "\n",
        "\n",
        "\n",
        "![Sample Confusion Matrix](https://github.com/kmkarakaya/ML_tutorials/blob/master/images/confusion%20matrix%20sample.png?raw=true)\n"
      ]
    },
    {
      "cell_type": "code",
      "source": [
        "#multilabel-indicator is not supported hatası alacağız (aşağıda)\n",
        "from sklearn.metrics import confusion_matrix\n",
        "#confusion_matrix(y_true, y_pred)"
      ],
      "metadata": {
        "id": "y3O6O7jiWbGA"
      },
      "execution_count": 42,
      "outputs": []
    },
    {
      "cell_type": "markdown",
      "metadata": {
        "id": "torLpxmT7uvg"
      },
      "source": [
        "#[Multilabel confusion matrix](https://scikit-learn.org/stable/modules/generated/sklearn.metrics.multilabel_confusion_matrix.html?highlight=multilabel#sklearn-metrics-multilabel-confusion-matrix)\n",
        "\n",
        "\n",
        "* Her sınıf veya örnek için bir karışıklık matrisi hesaplıyoruz. \n",
        "* **DİKKAT:** Hücreler, bir önceki Matrix'ten farklı anlamlara sahiptir! (tahmin ve gerçeklerin yeri değişiyor.)\n",
        "\n",
        "![MCM](https://github.com/kmkarakaya/ML_tutorials/blob/master/images/MCM%20confusion%20matrix%20sample.png?raw=true)"
      ]
    },
    {
      "cell_type": "code",
      "source": [
        "#gerçek değerler ve tahminler\n",
        "print(\"Actual \\n\", y_true)\n",
        "print(\"\\nPredicted \\n\",y_pred)\n"
      ],
      "metadata": {
        "colab": {
          "base_uri": "https://localhost:8080/"
        },
        "id": "cXjhwMtMXrzi",
        "outputId": "3927069c-7f46-4fcc-8ffe-896b898585f4"
      },
      "execution_count": 39,
      "outputs": [
        {
          "output_type": "stream",
          "name": "stdout",
          "text": [
            "Actual \n",
            " [[0 1 1 1]\n",
            " [0 0 1 0]\n",
            " [1 1 0 0]]\n",
            "\n",
            "Predicted \n",
            " [[0 1 0 1]\n",
            " [0 1 1 1]\n",
            " [1 0 1 1]]\n"
          ]
        }
      ]
    },
    {
      "cell_type": "markdown",
      "metadata": {
        "id": "gAj197ZtIz_5"
      },
      "source": [
        "![Predictions](https://github.com/kmkarakaya/ML_tutorials/blob/master/images/sample%20mutli%20label%20classification%20predictionss.png?raw=true)"
      ]
    },
    {
      "cell_type": "code",
      "source": [
        "#matris, etiketler (A B C D) için tahmin edilen değerlerin sonuçlarını getiriyor\n",
        "from sklearn.metrics import multilabel_confusion_matrix\n",
        "multilabel_confusion_matrix(y_true, y_pred)\n",
        "#örn; a için 2 tane doğru negatif 1 tane doğru pozitif döndürüyor\n",
        "#bizim için önemli olan sol üstteki ve sağ alttaki değerlerin 1 veya daha fazla olmasıdır"
      ],
      "metadata": {
        "colab": {
          "base_uri": "https://localhost:8080/"
        },
        "id": "ZEjFPMEtX7MD",
        "outputId": "140e9518-8f82-4ce8-e3d6-e573f0708cdb"
      },
      "execution_count": 40,
      "outputs": [
        {
          "output_type": "execute_result",
          "data": {
            "text/plain": [
              "array([[[2, 0],\n",
              "        [0, 1]],\n",
              "\n",
              "       [[0, 1],\n",
              "        [1, 1]],\n",
              "\n",
              "       [[0, 1],\n",
              "        [1, 1]],\n",
              "\n",
              "       [[0, 2],\n",
              "        [0, 1]]])"
            ]
          },
          "metadata": {},
          "execution_count": 40
        }
      ]
    }
  ]
}